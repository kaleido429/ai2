{
 "cells": [
  {
   "cell_type": "code",
   "execution_count": 418,
   "id": "0f512f95-9b6d-4358-92f1-94035fbf8ef3",
   "metadata": {},
   "outputs": [
    {
     "data": {
      "text/plain": [
       "'c:\\\\Users\\\\tutuj\\\\AppData\\\\Local\\\\Programs\\\\Python\\\\Python312\\\\python.exe'"
      ]
     },
     "execution_count": 418,
     "metadata": {},
     "output_type": "execute_result"
    }
   ],
   "source": [
    "import matplotlib.pyplot as plt\n",
    "from matplotlib import colors\n",
    "import numpy as np\n",
    "import sys\n",
    "sys.executable"
   ]
  },
  {
   "cell_type": "markdown",
   "id": "bbe05525-f6a9-4396-9c7a-764efe39c5b2",
   "metadata": {},
   "source": [
    "# Utils\n",
    "### - Implement"
   ]
  },
  {
   "cell_type": "code",
   "execution_count": 419,
   "id": "24a27cba-8cad-4ae9-b269-61398f2dc4a2",
   "metadata": {},
   "outputs": [],
   "source": [
    "def get_available_actions(state, grid_reward):\n",
    "    actions = []\n",
    "    rows, cols = len(grid_reward), len(grid_reward[0])\n",
    "    row, col = state\n",
    "\n",
    "    if row > 0:\n",
    "        actions.append(0)  # 상\n",
    "    if row < rows - 1:\n",
    "        actions.append(1)  # 하\n",
    "    if col > 0:\n",
    "        actions.append(2)  # 좌\n",
    "    if col < cols - 1:\n",
    "        actions.append(3)  # 우\n",
    "\n",
    "    return actions\n",
    "\n",
    "def get_transition(state, action, grid_reward):\n",
    "    row, col = state\n",
    "\n",
    "    if action == 0:  # 상\n",
    "        next_state = (row - 1, col)\n",
    "    elif action == 1:  # 하\n",
    "        next_state = (row + 1, col)\n",
    "    elif action == 2:  # 좌\n",
    "        next_state = (row, col - 1)\n",
    "    elif action == 3:  # 우\n",
    "        next_state = (row, col + 1)\n",
    "    else:\n",
    "        raise ValueError(\"Invalid action\")\n",
    "\n",
    "    reward = grid_reward[next_state[0]][next_state[1]]\n",
    "    return next_state, reward"
   ]
  },
  {
   "cell_type": "markdown",
   "id": "23a406ed-7920-44a4-9678-1c4373983299",
   "metadata": {},
   "source": [
    "# Utils\n",
    "### - Given"
   ]
  },
  {
   "cell_type": "code",
   "execution_count": 420,
   "id": "c6b87319-ccda-4cd0-9bc1-cd8a449c5e91",
   "metadata": {},
   "outputs": [],
   "source": [
    "def generate_grid_world(obstacles):\n",
    "    grid_size = 7\n",
    "    grid_reward = np.full((grid_size, grid_size), -1)\n",
    "\n",
    "    for (x, y) in obstacles:\n",
    "        grid_reward[x, y] = -100\n",
    "\n",
    "    # Define start and end positions\n",
    "    start = (0, 0)\n",
    "    end = (6, 6)\n",
    "    grid_reward[end[0], end[1]] = 0\n",
    "\n",
    "    return grid_reward, start, end\n",
    "\n",
    "def print_policy(policy):\n",
    "    grid_size = policy.shape[0]\n",
    "    policy_symbols = np.full((grid_size, grid_size), ' ')\n",
    "    for x in range(grid_size):\n",
    "        for y in range(grid_size):\n",
    "            if (x, y) == (end[0], end[1]):\n",
    "                policy_symbols[x, y] = 'G'  # Goal\n",
    "            else:\n",
    "                policy_symbols[x, y] = ACTION_SYMBOLS.get(policy[x, y], ' ')\n",
    "    for row in policy_symbols:\n",
    "        print(' '.join(row))\n",
    "\n",
    "def visualize_map(data, title):\n",
    "    plt.imshow(data, cmap='gray', interpolation='nearest')\n",
    "    plt.colorbar(label='Value')\n",
    "    for i in range(data.shape[0]):\n",
    "        for j in range(data.shape[1]):\n",
    "            plt.text(j, i, f\"{data[i, j]:.1f}\", ha=\"center\", va=\"center\", color=\"Green\")\n",
    "    plt.title(title)\n",
    "    plt.xlabel('X-axis')\n",
    "    plt.ylabel('Y-axis')\n",
    "    plt.show()\n",
    "\n",
    "def visualize_policy(policy, start, end, title, israndom):\n",
    "    grid_size = policy.shape[0]\n",
    "    policy_symbols = np.full((grid_size, grid_size), ' ', dtype=\"U10\")\n",
    "    for x in range(grid_size):\n",
    "        for y in range(grid_size):\n",
    "            if (x, y) == (end[0], end[1]):\n",
    "                policy_symbols[x, y] = 'G'  # Goal\n",
    "            elif (x, y) == (start[0], start[1]):\n",
    "                policy_symbols[x, y] = 'S'  # Start\n",
    "            else:\n",
    "                if israndom:\n",
    "                    policy_symbols[x, y] = ACTION_SYMBOLS.get(policy[x, y], ' ')\n",
    "                else:\n",
    "                    temp_policy_symbol = 0\n",
    "                    actions = [int(value) for value in str(policy[x, y])]\n",
    "                    for i, value in enumerate(actions):\n",
    "                        if i == 0:\n",
    "                            temp_policy_symbol = ACTION_SYMBOLS.get(value, ' ')\n",
    "                        else:\n",
    "                            temp_policy_symbol += ACTION_SYMBOLS.get(value, ' ')\n",
    "                    policy_symbols[x, y] = temp_policy_symbol\n",
    "    \n",
    "    fig, ax = plt.subplots(figsize=(5,5))\n",
    "    ax.set_xlim(0, grid_size)\n",
    "    ax.set_ylim(0, grid_size)\n",
    "    ax.set_xticks(np.arange(0, grid_size+1, 1))\n",
    "    ax.set_yticks(np.arange(0, grid_size+1, 1))\n",
    "    ax.set_yticklabels(np.arange(grid_size, -1, -1))\n",
    "    ax.grid(True)\n",
    "\n",
    "    for x in range(grid_size):\n",
    "        for y in range(grid_size):\n",
    "            if israndom:\n",
    "                ax.text(y + 0.5, grid_size - x - 0.5, policy_symbols[x, y],\n",
    "                        ha='center', va='center', fontsize=20)\n",
    "            else:\n",
    "                ax.text(y + 0.5, grid_size - x - 0.5, policy_symbols[x, y],\n",
    "                        ha='center', va='center', fontsize=10)\n",
    "            if grid[x, y] == -100:\n",
    "                rect = plt.Rectangle((y, grid_size - x - 1), 1, 1, facecolor='black')\n",
    "                ax.add_patch(rect)\n",
    "            elif (x, y) == (end[0], end[1]):\n",
    "                rect = plt.Rectangle((y, grid_size - x - 1), 1, 1, facecolor='green', alpha=0.3)\n",
    "                ax.add_patch(rect)\n",
    "            elif (x, y) == (start[0], start[1]):\n",
    "                rect = plt.Rectangle((y, grid_size - x - 1), 1, 1, facecolor='blue', alpha=0.3)\n",
    "                ax.add_patch(rect)\n",
    "\n",
    "    plt.title(title)\n",
    "    plt.show()"
   ]
  },
  {
   "cell_type": "markdown",
   "id": "755be6b1-25ed-4802-9d4d-851fcb5392ac",
   "metadata": {},
   "source": [
    "# Policy initialization\n",
    "### - Implement"
   ]
  },
  {
   "cell_type": "code",
   "execution_count": null,
   "id": "14280623-8cb4-4623-9335-897b7a45e8fe",
   "metadata": {},
   "outputs": [],
   "source": [
    "def policy_generator(grid_reward, israndom, isall=False):\n",
    "    \n",
    "    rows, cols = len(grid_reward), len(grid_reward[0])\n",
    "    policy = {}#np.zeros((rows, cols))\n",
    "    \n",
    "    for row in range(rows):\n",
    "        for col in range(cols):\n",
    "            actions = get_available_actions((row, col), grid_reward)#가능한 action들\n",
    "            if isall:\n",
    "                policy[(row, col)] = actions\n",
    "            elif israndom:\n",
    "                policy[(row, col)] = [np.random.choice(actions)]\n",
    "            else:\n",
    "                policy[(row, col)] = actions\n",
    "\n",
    "    return policy"
   ]
  },
  {
   "cell_type": "markdown",
   "id": "e80252f8-a097-49a2-9fac-18ac55d2f758",
   "metadata": {},
   "source": [
    "# Policy evaluation\n",
    "### - Implement"
   ]
  },
  {
   "cell_type": "code",
   "execution_count": 422,
   "id": "26b151e3-53aa-4e13-9376-263b88371d62",
   "metadata": {},
   "outputs": [],
   "source": [
    "def policy_evaluation(grid_reward, policy, discount_factor=0.9, theta=1e-1, israndom=True):\n",
    "\n",
    "    rows, cols = len(grid_reward), len(grid_reward[0])\n",
    "    V = np.zeros((rows, cols))\n",
    "\n",
    "    while True:\n",
    "        delta = 0\n",
    "        for row in range(rows):\n",
    "            for col in range(cols):\n",
    "                state = (row, col)\n",
    "                v = V[row, col]\n",
    "                new_v = 0\n",
    "                actions = policy[state]\n",
    "                for action in actions:\n",
    "                    next_state, reward = get_transition(state, action, grid_reward)\n",
    "                    new_v += (1 / len(actions)) * (reward + discount_factor * V[next_state[0], next_state[1]])\n",
    "                V[row, col] = new_v\n",
    "                delta = max(delta, abs(v - new_v))\n",
    "        yield V  # 각 반복마다 가치 함수 V를 반환\n",
    "        if delta < theta:\n",
    "            break"
   ]
  },
  {
   "cell_type": "markdown",
   "id": "4445ff4e-f034-464f-b040-9c8281822a6d",
   "metadata": {},
   "source": [
    "# Policy improvement\n",
    "### - Implement"
   ]
  },
  {
   "cell_type": "code",
   "execution_count": 423,
   "id": "093ac467-7cbf-4e87-acb1-d82978d191e3",
   "metadata": {},
   "outputs": [],
   "source": [
    "def policy_improvement(grid_reward, V, discount_factor=0.9):\n",
    "    rows, cols = len(grid_reward), len(grid_reward[0])\n",
    "    new_policy = np.zeros((rows, cols))\n",
    "\n",
    "    for row in range(rows):\n",
    "        for col in range(cols):\n",
    "            state = (row, col)\n",
    "            actions = get_available_actions(state, grid_reward)\n",
    "            action_values = []\n",
    "\n",
    "            for action in actions:\n",
    "                next_state, reward = get_transition(state, action, grid_reward)\n",
    "                action_value = reward + discount_factor * V[next_state[0], next_state[1]]\n",
    "                action_values.append(action_value)\n",
    "\n",
    "            best_action = actions[np.argmax(action_values)]\n",
    "            new_policy[state] = [best_action]\n",
    "\n",
    "    return new_policy"
   ]
  },
  {
   "cell_type": "markdown",
   "id": "2e11d1d0-c889-4ec1-8650-5ccfb56d3f91",
   "metadata": {},
   "source": [
    "# Value iteration\n",
    "### - Implement"
   ]
  },
  {
   "cell_type": "code",
   "execution_count": 424,
   "id": "2cd6d5b7-76f2-4f69-be13-0879ca9b814d",
   "metadata": {},
   "outputs": [],
   "source": [
    "def value_iteration(grid_reward, discount_factor=0.9, theta=1e-1):\n",
    "    rows, cols = len(grid_reward), len(grid_reward[0])\n",
    "    V = np.zeros((rows, cols))\n",
    "    policy = policy_generator(grid_reward, israndom=True)\n",
    "\n",
    "    while True:\n",
    "        delta = 0\n",
    "        for row in range(rows):\n",
    "            for col in range(cols):\n",
    "                state = (row, col)\n",
    "                v = V[row, col]\n",
    "                action_values = []\n",
    "\n",
    "                actions = get_available_actions(state, grid_reward)\n",
    "                for action in actions:\n",
    "                    next_state, reward = get_transition(state, action, grid_reward)\n",
    "                    action_value = reward + discount_factor * V[next_state[0], next_state[1]]\n",
    "                    action_values.append(action_value)\n",
    "\n",
    "                best_action_value = max(action_values)\n",
    "                V[row, col] = best_action_value\n",
    "                delta = max(delta, abs(v - best_action_value))\n",
    "\n",
    "        if delta < theta:\n",
    "            break\n",
    "\n",
    "    for row in range(rows):\n",
    "        for col in range(cols):\n",
    "            state = (row, col)\n",
    "            actions = get_available_actions(state, grid_reward)\n",
    "            action_values = []\n",
    "\n",
    "            for action in actions:\n",
    "                next_state, reward = get_transition(state, action, grid_reward)\n",
    "                action_value = reward + discount_factor * V[next_state[0], next_state[1]]\n",
    "                action_values.append(action_value)\n",
    "\n",
    "            best_action = actions[np.argmax(action_values)]\n",
    "            policy[state] = [best_action]\n",
    "    return V, policy"
   ]
  },
  {
   "cell_type": "markdown",
   "id": "3caaba57-0924-4e36-863b-ad426c73dedb",
   "metadata": {},
   "source": [
    "# Initialization\n",
    "### -Given"
   ]
  },
  {
   "cell_type": "code",
   "execution_count": 425,
   "id": "a0662fed-f454-4e73-a843-a583421ea480",
   "metadata": {},
   "outputs": [
    {
     "name": "stdout",
     "output_type": "stream",
     "text": [
      "\n",
      "============================================================\n",
      "\n"
     ]
    },
    {
     "data": {
      "image/png": "[encoded data removed]",
      "text/plain": [
       "<Figure size 640x480 with 2 Axes>"
      ]
     },
     "metadata": {},
     "output_type": "display_data"
    },
    {
     "name": "stdout",
     "output_type": "stream",
     "text": [
      "\n",
      "============================================================\n",
      "\n"
     ]
    }
   ],
   "source": [
    "ACTION_UP = 0\n",
    "ACTION_DOWN = 1\n",
    "ACTION_LEFT = 2\n",
    "ACTION_RIGHT = 3\n",
    "ACTIONS = [ACTION_UP, ACTION_DOWN, ACTION_LEFT, ACTION_RIGHT]\n",
    "ACTION_SYMBOLS = {ACTION_UP: '↑', ACTION_DOWN: '↓', ACTION_LEFT: '←', ACTION_RIGHT: '→'}\n",
    "\n",
    "border = f\"\\n{'='*60}\\n\"\n",
    "obstacles = [(0, 2), (1, 2), (3, 4), (3, 5), (6, 2), (6, 3)]\n",
    "grid, start, end = generate_grid_world(obstacles)\n",
    "print(border)\n",
    "visualize_map(grid, \"Grid initialization\")\n",
    "print(border)"
   ]
  },
  {
   "cell_type": "markdown",
   "id": "3214e290-1399-47db-bf76-f8c046aec8b2",
   "metadata": {},
   "source": [
    "# Show results\n",
    "### - Random policy initialization\n",
    "### - Given"
   ]
  },
  {
   "cell_type": "code",
   "execution_count": 426,
   "id": "5c4b4ec1-4655-475d-94a7-cd13bf052747",
   "metadata": {
    "scrolled": true
   },
   "outputs": [
    {
     "ename": "ValueError",
     "evalue": "setting an array element with a sequence.",
     "output_type": "error",
     "traceback": [
      "\u001b[1;31m---------------------------------------------------------------------------\u001b[0m",
      "\u001b[1;31mTypeError\u001b[0m                                 Traceback (most recent call last)",
      "\u001b[1;31mTypeError\u001b[0m: float() argument must be a string or a real number, not 'list'",
      "\nThe above exception was the direct cause of the following exception:\n",
      "\u001b[1;31mValueError\u001b[0m                                Traceback (most recent call last)",
      "Cell \u001b[1;32mIn[426], line 2\u001b[0m\n\u001b[0;32m      1\u001b[0m \u001b[38;5;66;03m# Policy initialization\u001b[39;00m\n\u001b[1;32m----> 2\u001b[0m random_policy \u001b[38;5;241m=\u001b[39m \u001b[43mpolicy_generator\u001b[49m\u001b[43m(\u001b[49m\u001b[43mgrid\u001b[49m\u001b[43m,\u001b[49m\u001b[43m \u001b[49m\u001b[43misrandom\u001b[49m\u001b[38;5;241;43m=\u001b[39;49m\u001b[38;5;28;43;01mTrue\u001b[39;49;00m\u001b[43m)\u001b[49m\n\u001b[0;32m      3\u001b[0m visualize_policy(random_policy, start, end, \u001b[38;5;124m\"\u001b[39m\u001b[38;5;124mRandom Policy initialization\u001b[39m\u001b[38;5;124m\"\u001b[39m, \u001b[38;5;28;01mTrue\u001b[39;00m)\n\u001b[0;32m      5\u001b[0m \u001b[38;5;66;03m# Policy evaluation\u001b[39;00m\n",
      "Cell \u001b[1;32mIn[421], line 12\u001b[0m, in \u001b[0;36mpolicy_generator\u001b[1;34m(grid_reward, israndom, isall)\u001b[0m\n\u001b[0;32m     10\u001b[0m     policy[(row, col)] \u001b[38;5;241m=\u001b[39m actions\n\u001b[0;32m     11\u001b[0m \u001b[38;5;28;01melif\u001b[39;00m israndom:\n\u001b[1;32m---> 12\u001b[0m     \u001b[43mpolicy\u001b[49m\u001b[43m[\u001b[49m\u001b[43m(\u001b[49m\u001b[43mrow\u001b[49m\u001b[43m,\u001b[49m\u001b[43m \u001b[49m\u001b[43mcol\u001b[49m\u001b[43m)\u001b[49m\u001b[43m]\u001b[49m \u001b[38;5;241m=\u001b[39m [np\u001b[38;5;241m.\u001b[39mrandom\u001b[38;5;241m.\u001b[39mchoice(actions)]\n\u001b[0;32m     13\u001b[0m \u001b[38;5;28;01melse\u001b[39;00m:\n\u001b[0;32m     14\u001b[0m     policy[(row, col)] \u001b[38;5;241m=\u001b[39m actions\n",
      "\u001b[1;31mValueError\u001b[0m: setting an array element with a sequence."
     ]
    }
   ],
   "source": [
    "# Policy initialization\n",
    "random_policy = policy_generator(grid, israndom=True)\n",
    "visualize_policy(random_policy, start, end, \"Random Policy initialization\", True)\n",
    "\n",
    "# Policy evaluation\n",
    "print(border)\n",
    "idx = 0\n",
    "for V_random in policy_evaluation(grid, random_policy, israndom=True):\n",
    "    idx += 1\n",
    "    visualize_map(V_random, f\"Value Function for policy evaluation for iter: {idx}\")\n",
    "    print(border)\n",
    "\n",
    "# Policy improvement\n",
    "improved_policy = policy_improvement(grid, V_random)\n",
    "visualize_policy(improved_policy, start, end, \"Improved Policy after Policy Improvement\", True)"
   ]
  },
  {
   "cell_type": "markdown",
   "id": "220af76c-0166-4896-9537-7ed188648b2d",
   "metadata": {},
   "source": [
    "# Show results\n",
    "### - All possible direction policy initialization\n",
    "### - Given"
   ]
  },
  {
   "cell_type": "code",
   "execution_count": null,
   "id": "f47add04-b0f0-4501-ba0d-d8994063ce61",
   "metadata": {},
   "outputs": [
    {
     "ename": "TypeError",
     "evalue": "int() argument must be a string, a bytes-like object or a real number, not 'list'",
     "output_type": "error",
     "traceback": [
      "\u001b[1;31m---------------------------------------------------------------------------\u001b[0m",
      "\u001b[1;31mTypeError\u001b[0m                                 Traceback (most recent call last)",
      "Cell \u001b[1;32mIn[399], line 2\u001b[0m\n\u001b[0;32m      1\u001b[0m \u001b[38;5;66;03m# Policy initialization\u001b[39;00m\n\u001b[1;32m----> 2\u001b[0m allpossibledirection_policy \u001b[38;5;241m=\u001b[39m \u001b[43mpolicy_generator\u001b[49m\u001b[43m(\u001b[49m\u001b[43mgrid\u001b[49m\u001b[43m,\u001b[49m\u001b[43m \u001b[49m\u001b[43misrandom\u001b[49m\u001b[38;5;241;43m=\u001b[39;49m\u001b[38;5;28;43;01mFalse\u001b[39;49;00m\u001b[43m)\u001b[49m\n\u001b[0;32m      3\u001b[0m visualize_policy(allpossibledirection_policy, start, end, \u001b[38;5;124m\"\u001b[39m\u001b[38;5;124mAll possible direction Policy initialization\u001b[39m\u001b[38;5;124m\"\u001b[39m, \u001b[38;5;28;01mFalse\u001b[39;00m)\n\u001b[0;32m      5\u001b[0m \u001b[38;5;66;03m# Policy evaluation\u001b[39;00m\n",
      "Cell \u001b[1;32mIn[392], line 14\u001b[0m, in \u001b[0;36mpolicy_generator\u001b[1;34m(grid_reward, israndom, isall)\u001b[0m\n\u001b[0;32m     12\u001b[0m             policy[(row, col)] \u001b[38;5;241m=\u001b[39m np\u001b[38;5;241m.\u001b[39mrandom\u001b[38;5;241m.\u001b[39mchoice(actions)\n\u001b[0;32m     13\u001b[0m         \u001b[38;5;28;01melse\u001b[39;00m:\n\u001b[1;32m---> 14\u001b[0m             \u001b[43mpolicy\u001b[49m\u001b[43m[\u001b[49m\u001b[43m(\u001b[49m\u001b[43mrow\u001b[49m\u001b[43m,\u001b[49m\u001b[43m \u001b[49m\u001b[43mcol\u001b[49m\u001b[43m)\u001b[49m\u001b[43m]\u001b[49m \u001b[38;5;241m=\u001b[39m actions\n\u001b[0;32m     16\u001b[0m \u001b[38;5;28;01mreturn\u001b[39;00m policy\n",
      "\u001b[1;31mTypeError\u001b[0m: int() argument must be a string, a bytes-like object or a real number, not 'list'"
     ]
    }
   ],
   "source": [
    "# Policy initialization\n",
    "allpossibledirection_policy = policy_generator(grid, israndom=False)\n",
    "visualize_policy(allpossibledirection_policy, start, end, \"All possible direction Policy initialization\", False)\n",
    "\n",
    "# Policy evaluation\n",
    "print(border)\n",
    "idx = 0\n",
    "for V_random in policy_evaluation(grid, allpossibledirection_policy, discount_factor=0.9, israndom=False):\n",
    "    idx += 1\n",
    "    visualize_map(V_random, f\"Value Function for policy evaluation for iter: {idx}\")\n",
    "    print(border)\n",
    "\n",
    "# Policy improvement\n",
    "allpossibledirection_improved_policy = policy_improvement(grid, V_random)\n",
    "visualize_policy(allpossibledirection_improved_policy, start, end, \"Improved Policy after Policy Improvement\", False)"
   ]
  },
  {
   "cell_type": "markdown",
   "id": "ccc439d8-8384-43f1-9177-9068bd16f73a",
   "metadata": {},
   "source": [
    "# Show results\n",
    "### - Value iteration\n",
    "### - Given"
   ]
  },
  {
   "cell_type": "code",
   "execution_count": null,
   "id": "c1e36b48-7f64-4361-af66-8014cb576eb2",
   "metadata": {},
   "outputs": [],
   "source": [
    "V_opt, optimal_policy = value_iteration(grid)\n",
    "visualize_map(V_opt, \"Optimal Value Function from Value Iteration\")\n",
    "\n",
    "visualize_policy(optimal_policy, start, end, \"Optimal Policy from Value Iteration\", True)"
   ]
  },
  {
   "cell_type": "code",
   "execution_count": null,
   "id": "60ee8b82-1cea-438d-a9d8-4e87cc2e6f85",
   "metadata": {},
   "outputs": [],
   "source": []
  }
 ],
 "metadata": {
  "kernelspec": {
   "display_name": "Python 3",
   "language": "python",
   "name": "python3"
  },
  "language_info": {
   "codemirror_mode": {
    "name": "ipython",
    "version": 3
   },
   "file_extension": ".py",
   "mimetype": "text/x-python",
   "name": "python",
   "nbconvert_exporter": "python",
   "pygments_lexer": "ipython3",
   "version": "3.12.4"
  }
 },
 "nbformat": 4,
 "nbformat_minor": 5
}
